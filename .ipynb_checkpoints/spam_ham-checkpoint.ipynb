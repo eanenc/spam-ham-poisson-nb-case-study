{
 "cells": [
  {
   "cell_type": "code",
   "execution_count": 265,
   "metadata": {},
   "outputs": [],
   "source": [
    "#Let's imagine these are the messages in our inbox. Our hypothesis is \n",
    "#that the percentage of spam in our inbox is greater than 12.5%.\n",
    "\n",
    "#Alpha is 0.025\n",
    "\n",
    "#Do we reject or not reject the null hypothesis? What's the p-value?\n",
    "\n",
    "from scipy.stats import norm, t, ttest_1samp, ttest_ind, poisson\n",
    "import numpy as np\n",
    "from numpy import genfromtxt\n",
    "from numpy import random\n",
    "import pandas as pd"
   ]
  },
  {
   "cell_type": "code",
   "execution_count": 266,
   "metadata": {},
   "outputs": [],
   "source": [
    "df = pd.read_csv('spam.csv', sep = \",\",  encoding = 'latin-1')"
   ]
  },
  {
   "cell_type": "code",
   "execution_count": 267,
   "metadata": {},
   "outputs": [],
   "source": [
    "outcomes = df['v1']\n",
    "\n",
    "#binarize outcomes\n",
    "bin_outcomes = []\n",
    "for outcome in outcomes:\n",
    "    if outcome == 'ham':\n",
    "        bin_outcomes.append(0)\n",
    "    else:\n",
    "        bin_outcomes.append(1)\n",
    "\n",
    "outcomes = bin_outcomes\n"
   ]
  },
  {
   "cell_type": "code",
   "execution_count": 268,
   "metadata": {},
   "outputs": [],
   "source": [
    "mean_null_hypothesis = .125\n",
    "#alt_hypothesis > .125\n",
    "a = .025\n",
    "#prop = np.sqrt(((0.125) * (1-.125)/300))\n",
    "prop = np.sqrt(((mean_null_hypothesis) * (1-mean_null_hypothesis)/len(outcomes)))\n",
    "x_bar = sum(outcomes)/len(outcomes)"
   ]
  },
  {
   "cell_type": "code",
   "execution_count": 269,
   "metadata": {},
   "outputs": [
    {
     "data": {
      "text/plain": [
       "0.020396461702911872"
      ]
     },
     "execution_count": 269,
     "metadata": {},
     "output_type": "execute_result"
    }
   ],
   "source": [
    "rv = norm(mean_null_hypothesis,prop)\n",
    "#spam_df = df[df['v1'] == 'spam']['v1']\n",
    "1 - rv.cdf(x_bar)"
   ]
  },
  {
   "cell_type": "code",
   "execution_count": 270,
   "metadata": {},
   "outputs": [
    {
     "data": {
      "text/plain": [
       "0.2847229977401552"
      ]
     },
     "execution_count": 270,
     "metadata": {},
     "output_type": "execute_result"
    }
   ],
   "source": [
    "l = sum(outcomes)/28\n",
    "rvp = poisson(l)\n",
    "1 - rvp.cdf(29) #prob of at least 30 spam per day"
   ]
  },
  {
   "cell_type": "code",
   "execution_count": null,
   "metadata": {},
   "outputs": [],
   "source": []
  },
  {
   "cell_type": "code",
   "execution_count": null,
   "metadata": {},
   "outputs": [],
   "source": []
  },
  {
   "cell_type": "code",
   "execution_count": 271,
   "metadata": {},
   "outputs": [
    {
     "name": "stdout",
     "output_type": "stream",
     "text": [
      "09066362231 URGENT! Your mobile No 07xxxxxxxxx won a å£2,000 bonus caller prize on 02/06/03! this is the 2nd attempt to reach YOU! call 09066362231 ASAP!\n",
      "Hi 07734396839 IBH Customer Loyalty Offer: The NEW NOKIA6600 Mobile from ONLY å£10 at TXTAUCTION!Txt word:START to No:81151 & get Yours Now!4T&\n",
      "Urgent! Please call 0906346330. Your ABTA complimentary 4* Spanish Holiday or å£10,000 cash await collection SAE T&Cs BOX 47 PO19 2EZ 150ppm 18+\n",
      "Happy birthday to you....dear.with lots of love.rakhesh NRI\n",
      "Double mins and txts 4 6months FREE Bluetooth on Orange. Available on Sony, Nokia Motorola phones. Call MobileUpd8 on 08000839402 or call2optout/N9DX\n",
      "I want to see your pretty pussy...\n",
      "You got job in wipro:)you will get every thing in life in 2 or 3 years.\n",
      "She said,'' do u mind if I go into the bedroom for a minute ? '' ''OK'', I sed in a sexy mood. She came out 5 minuts latr wid a cake...n My Wife,\n",
      "URGENT! You have won a 1 week FREE membership in our å£100,000 Prize Jackpot! Txt the word: CLAIM to No: 81010 T&C www.dbuk.net LCCLTD POBOX 4403LDNW1A7RW18\n",
      "Think I could stop by in like an hour or so? My roommate's looking to stock up for a trip\n"
     ]
    }
   ],
   "source": [
    "# Human comparison (Part 3)\n",
    "import random\n",
    "num = df.shape[0]\n",
    "results = []\n",
    "for i in range(10):\n",
    "    index = np.random.randint(0, num)\n",
    "    print(df.iloc[index][1])\n",
    "    results.append(df.iloc[index][0]) \n",
    " \n"
   ]
  },
  {
   "cell_type": "code",
   "execution_count": 272,
   "metadata": {},
   "outputs": [
    {
     "name": "stdout",
     "output_type": "stream",
     "text": [
      "5278 URGENT! Your Mobile number has been awarded with a å£2000 prize GUARANTEED. Call 09061790126 from land line. Claim 3030. Valid 12hrs only 150ppm\n",
      "1427 THING R GOOD THANX GOT EXAMS IN MARCH IVE DONE NO REVISION? IS FRAN STILL WITH BOYF? IVE GOTTA INTERVIW 4 EXETER BIT WORRIED!x\n",
      "1471 Oh. U must have taken your REAL Valentine out shopping first.\n",
      "4992 \\HEY KATE\n",
      "1091 Please da call me any mistake from my side sorry da. Pls da goto doctor.\n",
      "4450 And that is the problem. You walk around in \\julianaland\\\" oblivious to what is going on around you. I say the same things constantly and they go in one ear and out the other while you go off doing whatever you want to do. It's not that you don't know why I'm upset--it's that you don't listen when i tell you WHAT is going to upset me. Then you want to be surprised when I'm mad.\"\n",
      "4077 Gam gone after outstanding innings.\n",
      "5246 Haven't eaten all day. I'm sitting here staring at this juicy pizza and I can't eat it. These meds are ruining my life.\n",
      "734 Leaving to qatar tonite in search of an opportunity.all went fast.pls add me in ur prayers dear.Rakhesh\n",
      "1008 Poyyarikatur,kolathupalayam,unjalur post,erode dis, &lt;#&gt; .\n"
     ]
    }
   ],
   "source": [
    "#random.seed(9001)\n",
    "msg_dict={}\n",
    "for i in range(10):\n",
    "    index=np.random.randint(1,5572)\n",
    "    msg_dict[index] = tuple([df['v2'][index],df['v1'][index]])\n",
    "msg_dict.keys()\n",
    "for i in msg_dict.keys():\n",
    "    print(i,msg_dict[i][0])"
   ]
  },
  {
   "cell_type": "code",
   "execution_count": 273,
   "metadata": {},
   "outputs": [
    {
     "name": "stdout",
     "output_type": "stream",
     "text": [
      "5278 URGENT! Your Mobile number has been awarded with a å£2000 prize GUARANTEED. Call 09061790126 from land line. Claim 3030. Valid 12hrs only 150ppm spam\n",
      "1427 THING R GOOD THANX GOT EXAMS IN MARCH IVE DONE NO REVISION? IS FRAN STILL WITH BOYF? IVE GOTTA INTERVIW 4 EXETER BIT WORRIED!x ham\n",
      "1471 Oh. U must have taken your REAL Valentine out shopping first. ham\n",
      "4992 \\HEY KATE ham\n",
      "1091 Please da call me any mistake from my side sorry da. Pls da goto doctor. ham\n",
      "4450 And that is the problem. You walk around in \\julianaland\\\" oblivious to what is going on around you. I say the same things constantly and they go in one ear and out the other while you go off doing whatever you want to do. It's not that you don't know why I'm upset--it's that you don't listen when i tell you WHAT is going to upset me. Then you want to be surprised when I'm mad.\" ham\n",
      "4077 Gam gone after outstanding innings. ham\n",
      "5246 Haven't eaten all day. I'm sitting here staring at this juicy pizza and I can't eat it. These meds are ruining my life. ham\n",
      "734 Leaving to qatar tonite in search of an opportunity.all went fast.pls add me in ur prayers dear.Rakhesh ham\n",
      "1008 Poyyarikatur,kolathupalayam,unjalur post,erode dis, &lt;#&gt; . ham\n"
     ]
    }
   ],
   "source": [
    "for i in msg_dict.keys():\n",
    "    print(i,msg_dict[i][0], msg_dict[i][1])"
   ]
  },
  {
   "cell_type": "code",
   "execution_count": 283,
   "metadata": {},
   "outputs": [
    {
     "name": "stdout",
     "output_type": "stream",
     "text": [
      "  (0, 8267)\t1\n",
      "  (0, 1069)\t1\n",
      "  (0, 3594)\t1\n",
      "  (0, 7645)\t1\n",
      "  (0, 2048)\t1\n",
      "  (0, 1749)\t1\n",
      "  (0, 4476)\t1\n",
      "  (0, 8489)\t1\n",
      "  (0, 3634)\t1\n",
      "  (0, 1751)\t1\n",
      "  (0, 4087)\t1\n",
      "  (0, 5537)\t1\n",
      "  (0, 1303)\t1\n",
      "  (0, 2327)\t1\n",
      "  (0, 5920)\t1\n",
      "  (0, 4350)\t1\n",
      "  (0, 8030)\t1\n",
      "  (0, 3550)\t1\n",
      "  (1, 5533)\t1\n",
      "  (1, 8392)\t1\n",
      "  (1, 4318)\t1\n",
      "  (1, 4512)\t1\n",
      "  (1, 5504)\t1\n",
      "  (2, 77)\t1\n",
      "  (2, 1156)\t1\n",
      "  :\t:\n",
      "  (5570, 1786)\t1\n",
      "  (5570, 3470)\t1\n",
      "  (5570, 2892)\t1\n",
      "  (5570, 7049)\t1\n",
      "  (5570, 1778)\t1\n",
      "  (5570, 8065)\t1\n",
      "  (5570, 2592)\t1\n",
      "  (5570, 5334)\t1\n",
      "  (5570, 1438)\t1\n",
      "  (5570, 7627)\t1\n",
      "  (5570, 3308)\t1\n",
      "  (5570, 7039)\t1\n",
      "  (5570, 4615)\t1\n",
      "  (5570, 1084)\t1\n",
      "  (5570, 8313)\t1\n",
      "  (5570, 4218)\t1\n",
      "  (5570, 3781)\t1\n",
      "  (5570, 7756)\t1\n",
      "  (5570, 3358)\t1\n",
      "  (5570, 4087)\t1\n",
      "  (5571, 6505)\t1\n",
      "  (5571, 7885)\t1\n",
      "  (5571, 4225)\t2\n",
      "  (5571, 5244)\t1\n",
      "  (5571, 7756)\t1\n"
     ]
    }
   ],
   "source": [
    "# Part V\n",
    "from sklearn.feature_extraction.text import CountVectorizer\n",
    "from sklearn.feature_extraction.text import TfidfTransformer\n",
    "from sklearn.naive_bayes import MultinomialNB\n",
    "from sklearn.model_selection import train_test_split\n",
    "count_vect = CountVectorizer()\n",
    "tfidf_transformer = TfidfTransformer()\n",
    "\n",
    "counts = count_vect.fit_transform(df['v2'])  \n",
    "tfidfs = tfidf_transformer.fit_transform(counts)\n",
    "\n",
    "X_train, X_test, y_train, y_test = train_test_split(tfidfs, df['v1'], test_size=0.33, random_state=42) #change\n",
    "\n",
    "nb = MultinomialNB().fit(X_train, y_train)\n",
    "predictions = nb.predict(X_test) "
   ]
  },
  {
   "cell_type": "code",
   "execution_count": 275,
   "metadata": {},
   "outputs": [],
   "source": [
    "raw = {'actual': y_test, 'pred' : predictions}\n",
    "test_results_df = pd.DataFrame(data = raw)\n",
    "test_results_df['actual']\n",
    "correct_df = test_results_df[test_results_df['actual'] == test_results_df['pred']]"
   ]
  },
  {
   "cell_type": "code",
   "execution_count": 276,
   "metadata": {},
   "outputs": [
    {
     "data": {
      "text/plain": [
       "0.953779227841218"
      ]
     },
     "execution_count": 276,
     "metadata": {},
     "output_type": "execute_result"
    }
   ],
   "source": [
    "len(correct_df)/len(test_results_df) # percentage of correct predictions of total messages"
   ]
  },
  {
   "cell_type": "code",
   "execution_count": 277,
   "metadata": {},
   "outputs": [
    {
     "data": {
      "text/plain": [
       "0.8625954198473282"
      ]
     },
     "execution_count": 277,
     "metadata": {},
     "output_type": "execute_result"
    }
   ],
   "source": [
    "y_test.value_counts()\n",
    "1582/(252 + 1582)"
   ]
  },
  {
   "cell_type": "code",
   "execution_count": 278,
   "metadata": {},
   "outputs": [],
   "source": [
    "incorrect_df = acc_df[acc_df['actual'] != acc_df['pred']]"
   ]
  },
  {
   "cell_type": "code",
   "execution_count": 279,
   "metadata": {},
   "outputs": [
    {
     "name": "stdout",
     "output_type": "stream",
     "text": [
      "false negatives: 85  false positives 0\n"
     ]
    }
   ],
   "source": [
    "false_negatives = len(incorrect_df[incorrect_df['actual'] == 'spam']) # this is where we predicted spam when it was actually ham\n",
    "false_positives = len(incorrect_df[incorrect_df['actual'] == 'ham'])  # this is where we predicted ham when it was actually spam\n",
    "print('false negatives: {}  false positives {}'.format(false_negatives, false_positives))"
   ]
  },
  {
   "cell_type": "code",
   "execution_count": 280,
   "metadata": {},
   "outputs": [],
   "source": [
    "# We run our \n",
    "new_df = test_results_df[test_results_df['pred'] == 'ham']\n",
    "new_acc = len(new_df[new_df['actual'] == new_df['pred']])/len(new_df)\n",
    "spam_prop = np.sqrt((1 - new_acc)*(1-(1 - new_acc))/len(new_df))"
   ]
  },
  {
   "cell_type": "code",
   "execution_count": 281,
   "metadata": {},
   "outputs": [],
   "source": [
    "rv_new = norm(new_acc, spam_prop)"
   ]
  },
  {
   "cell_type": "code",
   "execution_count": 282,
   "metadata": {},
   "outputs": [
    {
     "data": {
      "text/plain": [
       "0.0"
      ]
     },
     "execution_count": 282,
     "metadata": {},
     "output_type": "execute_result"
    }
   ],
   "source": [
    "1 - rv.cdf(new_acc)"
   ]
  },
  {
   "cell_type": "code",
   "execution_count": null,
   "metadata": {},
   "outputs": [],
   "source": []
  }
 ],
 "metadata": {
  "kernelspec": {
   "display_name": "Python 3",
   "language": "python",
   "name": "python3"
  },
  "language_info": {
   "codemirror_mode": {
    "name": "ipython",
    "version": 3
   },
   "file_extension": ".py",
   "mimetype": "text/x-python",
   "name": "python",
   "nbconvert_exporter": "python",
   "pygments_lexer": "ipython3",
   "version": "3.6.5"
  }
 },
 "nbformat": 4,
 "nbformat_minor": 2
}
