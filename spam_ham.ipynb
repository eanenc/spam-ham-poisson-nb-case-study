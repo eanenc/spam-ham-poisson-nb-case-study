{
 "cells": [
  {
   "cell_type": "code",
   "execution_count": 284,
   "metadata": {},
   "outputs": [],
   "source": [
    "#Let's imagine these are the messages in our inbox. Our hypothesis is \n",
    "#that the percentage of spam in our inbox is greater than 12.5%.\n",
    "\n",
    "#Alpha is 0.025\n",
    "\n",
    "#Do we reject or not reject the null hypothesis? What's the p-value?\n",
    "\n",
    "from scipy.stats import norm, t, ttest_1samp, ttest_ind, poisson\n",
    "import numpy as np\n",
    "from numpy import genfromtxt\n",
    "from numpy import random\n",
    "import pandas as pd"
   ]
  },
  {
   "cell_type": "code",
   "execution_count": 285,
   "metadata": {},
   "outputs": [],
   "source": [
    "df = pd.read_csv('spam.csv', sep = \",\",  encoding = 'latin-1')"
   ]
  },
  {
   "cell_type": "code",
   "execution_count": 286,
   "metadata": {},
   "outputs": [],
   "source": [
    "outcomes = df['v1']\n",
    "\n",
    "#binarize outcomes\n",
    "bin_outcomes = []\n",
    "for outcome in outcomes:\n",
    "    if outcome == 'ham':\n",
    "        bin_outcomes.append(0)\n",
    "    else:\n",
    "        bin_outcomes.append(1)\n",
    "\n",
    "outcomes = bin_outcomes\n"
   ]
  },
  {
   "cell_type": "code",
   "execution_count": 287,
   "metadata": {},
   "outputs": [],
   "source": [
    "mean_null_hypothesis = .125\n",
    "#alt_hypothesis > .125\n",
    "a = .025\n",
    "#prop = np.sqrt(((0.125) * (1-.125)/300))\n",
    "prop = np.sqrt(((mean_null_hypothesis) * (1-mean_null_hypothesis)/len(outcomes)))\n",
    "x_bar = sum(outcomes)/len(outcomes)"
   ]
  },
  {
   "cell_type": "code",
   "execution_count": 288,
   "metadata": {},
   "outputs": [
    {
     "data": {
      "text/plain": [
       "0.020396461702911872"
      ]
     },
     "execution_count": 288,
     "metadata": {},
     "output_type": "execute_result"
    }
   ],
   "source": [
    "rv = norm(mean_null_hypothesis,prop)\n",
    "#spam_df = df[df['v1'] == 'spam']['v1']\n",
    "1 - rv.cdf(x_bar)"
   ]
  },
  {
   "cell_type": "code",
   "execution_count": 289,
   "metadata": {},
   "outputs": [
    {
     "data": {
      "text/plain": [
       "0.2847229977401552"
      ]
     },
     "execution_count": 289,
     "metadata": {},
     "output_type": "execute_result"
    }
   ],
   "source": [
    "l = sum(outcomes)/28\n",
    "rvp = poisson(l)\n",
    "1 - rvp.cdf(29) #prob of at least 30 spam per day"
   ]
  },
  {
   "cell_type": "code",
   "execution_count": null,
   "metadata": {},
   "outputs": [],
   "source": []
  },
  {
   "cell_type": "code",
   "execution_count": null,
   "metadata": {},
   "outputs": [],
   "source": []
  },
  {
   "cell_type": "code",
   "execution_count": 290,
   "metadata": {},
   "outputs": [
    {
     "name": "stdout",
     "output_type": "stream",
     "text": [
      "If you hear a loud scream in about &lt;#&gt; minutes its cause my Gyno will be shoving things up me that don't belong :/\n",
      "Sorry,in meeting I'll call later\n",
      "Thanks honey. Have a great day.\n",
      "Good evening Sir, hope you are having a nice day. I wanted to bring it to your notice that I have been late in paying rent for the past few months and have had to pay a $ &lt;#&gt;  charge. I felt it would be inconsiderate of me to nag about something you give at great cost to yourself and that's why i didnt speak up. I however am in a recession and wont be able to pay the charge this month hence my askin well ahead of month's end. Can you please help. Thank you for everything.\n",
      "Am also doing in cbe only. But have to pay.\n",
      "Freemsg: 1-month unlimited free calls! Activate SmartCall Txt: CALL to No: 68866. Subscriptn3gbp/wk unlimited calls Help: 08448714184 Stop?txt stop landlineonly\n",
      "I shall book chez jules for half eight, if that's ok with you?\n",
      "Em, its olowoyey@ usc.edu have a great time in argentina. Not sad about secretary, everything is a blessing\n",
      "Dear U've been invited to XCHAT. This is our final attempt to contact u! Txt CHAT to 86688 150p/MsgrcvdHG/Suite342/2Lands/Row/W1J6HL LDN 18 yrs\n",
      "Not directly behind... Abt 4 rows behind Ì_...\n"
     ]
    }
   ],
   "source": [
    "# Human comparison (Part 3)\n",
    "import random\n",
    "num = df.shape[0]\n",
    "results = []\n",
    "for i in range(10):\n",
    "    index = np.random.randint(0, num)\n",
    "    print(df.iloc[index][1])\n",
    "    results.append(df.iloc[index][0]) \n",
    " \n"
   ]
  },
  {
   "cell_type": "code",
   "execution_count": 291,
   "metadata": {},
   "outputs": [
    {
     "name": "stdout",
     "output_type": "stream",
     "text": [
      "5520 No. I dont want to hear anything\n",
      "4438 i want to grasp your pretty booty :)\n",
      "1510 Pete,is this your phone still? Its Jenny from college and Leanne.what are you up to now?:)\n",
      "1196 What he said is not the matter. My mind saying some other matter is there.\n",
      "3837 Went to pay rent. So i had to go to the bank to authorise the payment.\n",
      "1435 Dad went out oredi... \n",
      "101 I'm still looking for a car to buy. And have not gone 4the driving test yet.\n",
      "4734 Oh k:)after that placement there ah?\n",
      "2869 YOUR CHANCE TO BE ON A REALITY FANTASY SHOW call now = 08707509020 Just 20p per min NTT Ltd, PO Box 1327 Croydon CR9 5WB 0870 is a national = rate call.\n",
      "4186 Dear got bus directly to calicut\n"
     ]
    }
   ],
   "source": [
    "#random.seed(9001)\n",
    "msg_dict={}\n",
    "for i in range(10):\n",
    "    index=np.random.randint(1,5572)\n",
    "    msg_dict[index] = tuple([df['v2'][index],df['v1'][index]])\n",
    "msg_dict.keys()\n",
    "for i in msg_dict.keys():\n",
    "    print(i,msg_dict[i][0])"
   ]
  },
  {
   "cell_type": "code",
   "execution_count": 292,
   "metadata": {},
   "outputs": [
    {
     "name": "stdout",
     "output_type": "stream",
     "text": [
      "5520 No. I dont want to hear anything ham\n",
      "4438 i want to grasp your pretty booty :) ham\n",
      "1510 Pete,is this your phone still? Its Jenny from college and Leanne.what are you up to now?:) ham\n",
      "1196 What he said is not the matter. My mind saying some other matter is there. ham\n",
      "3837 Went to pay rent. So i had to go to the bank to authorise the payment. ham\n",
      "1435 Dad went out oredi...  ham\n",
      "101 I'm still looking for a car to buy. And have not gone 4the driving test yet. ham\n",
      "4734 Oh k:)after that placement there ah? ham\n",
      "2869 YOUR CHANCE TO BE ON A REALITY FANTASY SHOW call now = 08707509020 Just 20p per min NTT Ltd, PO Box 1327 Croydon CR9 5WB 0870 is a national = rate call. spam\n",
      "4186 Dear got bus directly to calicut ham\n"
     ]
    }
   ],
   "source": [
    "for i in msg_dict.keys():\n",
    "    print(i,msg_dict[i][0], msg_dict[i][1])"
   ]
  },
  {
   "cell_type": "code",
   "execution_count": 293,
   "metadata": {},
   "outputs": [],
   "source": [
    "# Part V\n",
    "from sklearn.feature_extraction.text import CountVectorizer\n",
    "from sklearn.feature_extraction.text import TfidfTransformer\n",
    "from sklearn.naive_bayes import MultinomialNB\n",
    "from sklearn.model_selection import train_test_split\n",
    "count_vect = CountVectorizer()\n",
    "tfidf_transformer = TfidfTransformer()\n",
    "\n",
    "counts = count_vect.fit_transform(df['v2'])  \n",
    "tfidfs = tfidf_transformer.fit_transform(counts)\n",
    "\n",
    "X_train, X_test, y_train, y_test = train_test_split(tfidfs, df['v1'], test_size=0.33, random_state=42) #change\n",
    "\n",
    "nb = MultinomialNB().fit(X_train, y_train)\n",
    "predictions = nb.predict(X_test) "
   ]
  },
  {
   "cell_type": "code",
   "execution_count": 294,
   "metadata": {},
   "outputs": [],
   "source": [
    "raw = {'actual': y_test, 'pred' : predictions}\n",
    "test_results_df = pd.DataFrame(data = raw)\n",
    "test_results_df['actual']\n",
    "correct_df = test_results_df[test_results_df['actual'] == test_results_df['pred']]"
   ]
  },
  {
   "cell_type": "code",
   "execution_count": 295,
   "metadata": {},
   "outputs": [
    {
     "data": {
      "text/plain": [
       "0.953779227841218"
      ]
     },
     "execution_count": 295,
     "metadata": {},
     "output_type": "execute_result"
    }
   ],
   "source": [
    "len(correct_df)/len(test_results_df) # percentage of correct predictions of total messages"
   ]
  },
  {
   "cell_type": "code",
   "execution_count": 296,
   "metadata": {},
   "outputs": [
    {
     "data": {
      "text/plain": [
       "0.8625954198473282"
      ]
     },
     "execution_count": 296,
     "metadata": {},
     "output_type": "execute_result"
    }
   ],
   "source": [
    "y_test.value_counts()\n",
    "1582/(252 + 1582)"
   ]
  },
  {
   "cell_type": "code",
   "execution_count": 297,
   "metadata": {},
   "outputs": [],
   "source": [
    "incorrect_df = acc_df[acc_df['actual'] != acc_df['pred']]"
   ]
  },
  {
   "cell_type": "code",
   "execution_count": 298,
   "metadata": {},
   "outputs": [
    {
     "name": "stdout",
     "output_type": "stream",
     "text": [
      "false negatives: 85  false positives 0\n"
     ]
    }
   ],
   "source": [
    "false_negatives = len(incorrect_df[incorrect_df['actual'] == 'spam']) # this is where we predicted spam when it was actually ham\n",
    "false_positives = len(incorrect_df[incorrect_df['actual'] == 'ham'])  # this is where we predicted ham when it was actually spam\n",
    "print('false negatives: {}  false positives {}'.format(false_negatives, false_positives))"
   ]
  },
  {
   "cell_type": "code",
   "execution_count": 299,
   "metadata": {},
   "outputs": [],
   "source": [
    "# We run our \n",
    "new_df = test_results_df[test_results_df['pred'] == 'ham']\n",
    "new_acc = len(new_df[new_df['actual'] == new_df['pred']])/len(new_df)\n",
    "spam_prop = np.sqrt((1 - new_acc)*(1-(1 - new_acc))/len(new_df))"
   ]
  },
  {
   "cell_type": "code",
   "execution_count": 300,
   "metadata": {},
   "outputs": [],
   "source": [
    "rv_new = norm(mean_null_hypothesis, spam_prop)"
   ]
  },
  {
   "cell_type": "code",
   "execution_count": 301,
   "metadata": {},
   "outputs": [
    {
     "data": {
      "text/plain": [
       "0.0"
      ]
     },
     "execution_count": 301,
     "metadata": {},
     "output_type": "execute_result"
    }
   ],
   "source": [
    "1 - rv.cdf(new_acc)"
   ]
  },
  {
   "cell_type": "code",
   "execution_count": null,
   "metadata": {},
   "outputs": [],
   "source": []
  }
 ],
 "metadata": {
  "kernelspec": {
   "display_name": "Python 3",
   "language": "python",
   "name": "python3"
  },
  "language_info": {
   "codemirror_mode": {
    "name": "ipython",
    "version": 3
   },
   "file_extension": ".py",
   "mimetype": "text/x-python",
   "name": "python",
   "nbconvert_exporter": "python",
   "pygments_lexer": "ipython3",
   "version": "3.6.5"
  }
 },
 "nbformat": 4,
 "nbformat_minor": 2
}
